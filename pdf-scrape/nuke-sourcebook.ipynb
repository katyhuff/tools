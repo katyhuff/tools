{
 "cells": [
  {
   "cell_type": "code",
   "execution_count": null,
   "metadata": {
    "collapsed": false,
    "deletable": true,
    "editable": true
   },
   "outputs": [],
   "source": [
    "import PyPDF2\n",
    " \n",
    "filename = \"nuke-sourcebook.pdf\" #filename of your PDF/directory where your PDF is stored\n"
   ]
  },
  {
   "cell_type": "code",
   "execution_count": null,
   "metadata": {
    "collapsed": false,
    "deletable": true,
    "editable": true
   },
   "outputs": [],
   "source": [
    "pdfReader = PyPDF2.PdfFileReader(open(filename, 'rb'))"
   ]
  },
  {
   "cell_type": "code",
   "execution_count": null,
   "metadata": {
    "collapsed": false,
    "deletable": true,
    "editable": true
   },
   "outputs": [],
   "source": [
    "!pdfgrep  -oh '^[A-Z][^,()]*,\\ .*\\[[^ ][^ ]*@[^ ][^ ]*\\]' \"nuke-sourcebook.pdf\" > emails.txt"
   ]
  },
  {
   "cell_type": "code",
   "execution_count": null,
   "metadata": {
    "collapsed": true,
    "deletable": true,
    "editable": true
   },
   "outputs": [],
   "source": [
    "!pdfgrep  -oh '\\[[^ ][^ ]*@[^ ][^ ]*\\]' \"nuke-sourcebook.pdf\" > emails.txt"
   ]
  },
  {
   "cell_type": "code",
   "execution_count": null,
   "metadata": {
    "collapsed": false,
    "deletable": true,
    "editable": true
   },
   "outputs": [],
   "source": [
    "!wc -l emails.txt"
   ]
  },
  {
   "cell_type": "code",
   "execution_count": null,
   "metadata": {
    "collapsed": false,
    "deletable": true,
    "editable": true,
    "scrolled": true
   },
   "outputs": [],
   "source": [
    "!head -10 emails.txt"
   ]
  },
  {
   "cell_type": "code",
   "execution_count": null,
   "metadata": {
    "collapsed": false,
    "deletable": true,
    "editable": true
   },
   "outputs": [],
   "source": [
    "#pdfgrep  -h 'Professor' \"nuke-sourcebook.pdf\" > profs-only.txt\n",
    "!pdfgrep  -h 'Professor|\\[[^ ][^ ]*@[^ ][^ ]*\\]' \"nuke-sourcebook.pdf\"| grep -oh '^[-A-Za-z. ]*,\\|\\[[^ ][^ ]*@[^ ][^ ]*\\]'> name-emails.txt\n",
    "#!pdfgrep  -h '^[A-Za-z.\\ ]*,|\\[[^ ][^ ]*@[^ ][^ ]*\\]' \"nuke-sourcebook.pdf\" > name-emails.txt\n",
    "!wc -l name-emails.txt\n",
    "!sed -i '.bak' 's/^\\([^\\[]\\)/\"\\1/g' name-emails.txt\n",
    "!sed -i '.bak' 's/,$/\"/g' name-emails.txt\n",
    "!sed -i '.bak' 's/\"$/\"/g' name-emails.txt\n",
    "!sed -i '.bak' 's/\\[/</g' name-emails.txt\n",
    "!sed -i '.bak' 's/\\]/>,/g' name-emails.txt\n",
    "!wc -l name-emails.txt\n",
    "\n",
    "\n",
    "!sed -i '.bak' '/Associate/d' name-emails.txt\n",
    "!sed -i '.bak' '/Engineering/d' name-emails.txt\n",
    "!sed -i '.bak' '/Provost/d' name-emails.txt\n",
    "!sed -i '.bak' '/Director/d' name-emails.txt\n",
    "!sed -i '.bak' '/radiation/d' name-emails.txt\n",
    "!sed -i '.bak' '/calibration/d' name-emails.txt\n",
    "!sed -i '.bak' '/Supervisor/d' name-emails.txt\n",
    "!sed -i '.bak' '/Hospital/d' name-emails.txt\n",
    "!sed -i '.bak' '/Technology/d' name-emails.txt\n",
    "!sed -i '.bak' '/Institute/d' name-emails.txt\n",
    "!sed -i '.bak' '/Medical/d' name-emails.txt\n",
    "!sed -i '.bak' '/President/d' name-emails.txt\n",
    "!sed -i '.bak' '/University/d' name-emails.txt\n",
    "!sed -i '.bak' '/Professor/d' name-emails.txt\n",
    "!sed -i '.bak' '/Program/d' name-emails.txt\n",
    "!sed -i '.bak' '/Department/d' name-emails.txt\n",
    "!sed -i '.bak' '/Jr\\./d' name-emails.txt\n",
    "!sed -i '.bak' '/Sr\\./d' name-emails.txt\n",
    "!sed -i '.bak' '/Adjunct/d' name-emails.txt\n",
    "!sed -i '.bak' '/Ph.D./d' name-emails.txt\n",
    "!perl -p0e 's/\"\\n</\" </igs' name-emails.txt > name-emails-2.txt\n",
    "!mv name-emails-2.txt name-emails.txt\n",
    "!sed -i '.bak' '/</!d' name-emails.txt\n",
    "#!sed -i '.bak' '/</!d' name-emails.txt\n",
    "#!sed -i '.bak' 's/\\]/\\>/g' name-emails.txt\n",
    "#!sed -i '.bak' '/\"$/d' name-emails.txt\n",
    "!tail -10 name-emails.txt"
   ]
  },
  {
   "cell_type": "code",
   "execution_count": null,
   "metadata": {
    "collapsed": false,
    "deletable": true,
    "editable": true,
    "scrolled": true
   },
   "outputs": [],
   "source": [
    "!wc -l profs-only.txt"
   ]
  },
  {
   "cell_type": "code",
   "execution_count": null,
   "metadata": {
    "collapsed": false,
    "deletable": true,
    "editable": true
   },
   "outputs": [],
   "source": [
    "!head -10 profs-only.txt"
   ]
  },
  {
   "cell_type": "code",
   "execution_count": null,
   "metadata": {
    "collapsed": true,
    "deletable": true,
    "editable": true
   },
   "outputs": [],
   "source": [
    "!pdfgrep  -h '^' \"nuke-sourcebook.pdf\" > all.txt"
   ]
  },
  {
   "cell_type": "code",
   "execution_count": null,
   "metadata": {
    "collapsed": true,
    "deletable": true,
    "editable": true
   },
   "outputs": [],
   "source": [
    "searchstr = '^[A-Za-z. ]*,\\ .*(*[^)]*)*.*\\n*.*\\[[^ ]\\+@[^ ]\\+\\]'"
   ]
  },
  {
   "cell_type": "code",
   "execution_count": null,
   "metadata": {
    "collapsed": false,
    "deletable": true,
    "editable": true
   },
   "outputs": [],
   "source": [
    "!grep -h '^[A-Za-z. ]*,\\ .*(*[^)]*)*[.\\n]*\\[[^ ]\\+@[^ ]\\+\\]\\|[A-Za-z, ]*([0-9\\-]{12})\\ *\\[[^ ]\\+@[^ ]\\+\\]\\|[A-Za-z, ]*([0-9\\-]{12})[\\n.]*\\[[^ ]\\+@[^ ]\\+\\]' \"nuke-sourcebook.txt\""
   ]
  },
  {
   "cell_type": "code",
   "execution_count": null,
   "metadata": {
    "collapsed": false,
    "deletable": true,
    "editable": true
   },
   "outputs": [],
   "source": [
    "!grep -h '[A-Za-z, \\.]\\+([0-9\\-]\\+)\\|\\[[^ ]\\+@[^ ]\\+\\]' nuke-sourcebook.txt "
   ]
  },
  {
   "cell_type": "code",
   "execution_count": null,
   "metadata": {
    "collapsed": false,
    "deletable": true,
    "editable": true
   },
   "outputs": [],
   "source": [
    "!sed '/^[A-Za-z. ]*,\\ .*(*[^)]*)*\\n*.*\\[[^ ]\\+@[^ ]\\+\\]/p' nuke-sourcebook.txt"
   ]
  },
  {
   "cell_type": "code",
   "execution_count": null,
   "metadata": {
    "collapsed": true,
    "deletable": true,
    "editable": true
   },
   "outputs": [],
   "source": []
  }
 ],
 "metadata": {
  "kernelspec": {
   "display_name": "Python 3",
   "language": "python",
   "name": "python3"
  },
  "language_info": {
   "codemirror_mode": {
    "name": "ipython",
    "version": 3
   },
   "file_extension": ".py",
   "mimetype": "text/x-python",
   "name": "python",
   "nbconvert_exporter": "python",
   "pygments_lexer": "ipython3",
   "version": "3.5.2"
  }
 },
 "nbformat": 4,
 "nbformat_minor": 0
}
